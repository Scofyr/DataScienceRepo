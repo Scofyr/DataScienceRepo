{
 "cells": [
  {
   "cell_type": "markdown",
   "id": "f05a164c-fcee-4fee-87cc-5401df7f7a43",
   "metadata": {},
   "source": [
    "# Data Science Tools and Ecosystem"
   ]
  },
  {
   "cell_type": "markdown",
   "id": "451fa845-2259-4ff0-964e-7d63c232d4f5",
   "metadata": {},
   "source": [
    "In this notebook, Data Science Tools and Ecosystems are summarized."
   ]
  },
  {
   "cell_type": "markdown",
   "id": "269b0449-8b12-4b8a-b385-039a2ccf10ac",
   "metadata": {
    "tags": []
   },
   "source": [
    "**Objectives:**\n",
    " - List Popular languages that data scientists use\n",
    " - List popular libraries that data scientists use\n",
    " - List Common open source development environment tools\n",
    " - Evaluate arithmetic expressions using python"
   ]
  },
  {
   "cell_type": "markdown",
   "id": "1eadf568-c22d-4be5-a327-6ac83a056e56",
   "metadata": {},
   "source": [
    "Some of the popular languages that data scientists use are:\n",
    "1. Python\n",
    "2. Scala\n",
    "3. R\n",
    "4. Java\n"
   ]
  },
  {
   "cell_type": "markdown",
   "id": "945f3180-28dd-46aa-9117-572aa309f186",
   "metadata": {
    "tags": []
   },
   "source": [
    "Some of the popular libraries that data scientists use are:\n",
    "1. NumPy\n",
    "2. TensorFlow\n",
    "3. Pandas\n",
    "4. Matplotlib"
   ]
  },
  {
   "cell_type": "markdown",
   "id": "6d040b6a-0d3e-487e-94fc-2fe302cc193f",
   "metadata": {},
   "source": [
    "|Data Science Tools |\n",
    "|-------|\n",
    "|RStudio|\n",
    "|Apache Spark|\n",
    "|TensorFlow| "
   ]
  },
  {
   "cell_type": "markdown",
   "id": "d01d5499-5926-4b62-b000-85b4ebb6e77a",
   "metadata": {
    "tags": []
   },
   "source": [
    "### Below are a few examples of evaluating arithmetic expressions in Python"
   ]
  },
  {
   "cell_type": "code",
   "execution_count": 6,
   "id": "9b9f54be-c684-494c-a020-feab2ca7cb33",
   "metadata": {
    "tags": []
   },
   "outputs": [
    {
     "data": {
      "text/plain": [
       "17"
      ]
     },
     "execution_count": 6,
     "metadata": {},
     "output_type": "execute_result"
    }
   ],
   "source": [
    "#his a simple arithmetic expression to mutiply then add integers\n",
    "(3*4)+5"
   ]
  },
  {
   "cell_type": "code",
   "execution_count": 7,
   "id": "20abdfad-707b-4447-8a58-6efb8271e011",
   "metadata": {
    "tags": []
   },
   "outputs": [
    {
     "data": {
      "text/plain": [
       "3.3333333333333335"
      ]
     },
     "execution_count": 7,
     "metadata": {},
     "output_type": "execute_result"
    }
   ],
   "source": [
    "#This will convert 200 minutes to hours by diving by 60\n",
    "200/60"
   ]
  },
  {
   "cell_type": "markdown",
   "id": "f401dd7c-5b3d-4050-b853-349ce48f459a",
   "metadata": {},
   "source": [
    "## Author:\n",
    "Scott"
   ]
  },
  {
   "cell_type": "code",
   "execution_count": null,
   "id": "fa6896fd-6d22-4a6e-846d-14de573d49cb",
   "metadata": {},
   "outputs": [],
   "source": []
  }
 ],
 "metadata": {
  "kernelspec": {
   "display_name": "Python",
   "language": "python",
   "name": "conda-env-python-py"
  },
  "language_info": {
   "codemirror_mode": {
    "name": "ipython",
    "version": 3
   },
   "file_extension": ".py",
   "mimetype": "text/x-python",
   "name": "python",
   "nbconvert_exporter": "python",
   "pygments_lexer": "ipython3",
   "version": "3.7.12"
  }
 },
 "nbformat": 4,
 "nbformat_minor": 5
}
